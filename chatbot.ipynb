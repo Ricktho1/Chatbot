{
  "nbformat": 4,
  "nbformat_minor": 0,
  "metadata": {
    "colab": {
      "provenance": []
    },
    "kernelspec": {
      "name": "python3",
      "display_name": "Python 3"
    }
  },
  "cells": [
    {
      "cell_type": "code",
      "metadata": {
        "id": "-g0-Ihwwqjpg",
        "outputId": "9408c454-9f85-40f6-ada6-f63ef414f502",
        "colab": {
          "base_uri": "https://localhost:8080/",
          "height": 0
        }
      },
      "source": [
        "pip install nltk"
      ],
      "execution_count": 2,
      "outputs": [
        {
          "output_type": "stream",
          "name": "stdout",
          "text": [
            "Requirement already satisfied: nltk in /usr/local/lib/python3.10/dist-packages (3.8.1)\n",
            "Requirement already satisfied: click in /usr/local/lib/python3.10/dist-packages (from nltk) (8.1.7)\n",
            "Requirement already satisfied: joblib in /usr/local/lib/python3.10/dist-packages (from nltk) (1.3.2)\n",
            "Requirement already satisfied: regex>=2021.8.3 in /usr/local/lib/python3.10/dist-packages (from nltk) (2023.6.3)\n",
            "Requirement already satisfied: tqdm in /usr/local/lib/python3.10/dist-packages (from nltk) (4.66.1)\n"
          ]
        }
      ]
    },
    {
      "cell_type": "code",
      "metadata": {
        "id": "9DsrC6Umq19Y",
        "outputId": "7ee4ab95-6b76-44ed-f6ed-7ab883cc0430",
        "colab": {
          "base_uri": "https://localhost:8080/",
          "height": 0
        }
      },
      "source": [
        "pip install newspaper3k"
      ],
      "execution_count": 3,
      "outputs": [
        {
          "output_type": "stream",
          "name": "stdout",
          "text": [
            "Collecting newspaper3k\n",
            "  Downloading newspaper3k-0.2.8-py3-none-any.whl (211 kB)\n",
            "\u001b[?25l     \u001b[90m━━━━━━━━━━━━━━━━━━━━━━━━━━━━━━━━━━━━━━━━\u001b[0m \u001b[32m0.0/211.1 kB\u001b[0m \u001b[31m?\u001b[0m eta \u001b[36m-:--:--\u001b[0m\r\u001b[2K     \u001b[91m━━━━━━━\u001b[0m\u001b[91m╸\u001b[0m\u001b[90m━━━━━━━━━━━━━━━━━━━━━━━━━━━━━━━━\u001b[0m \u001b[32m41.0/211.1 kB\u001b[0m \u001b[31m1.2 MB/s\u001b[0m eta \u001b[36m0:00:01\u001b[0m\r\u001b[2K     \u001b[90m━━━━━━━━━━━━━━━━━━━━━━━━━━━━━━━━━━━━━━━━\u001b[0m \u001b[32m211.1/211.1 kB\u001b[0m \u001b[31m3.1 MB/s\u001b[0m eta \u001b[36m0:00:00\u001b[0m\n",
            "\u001b[?25hRequirement already satisfied: beautifulsoup4>=4.4.1 in /usr/local/lib/python3.10/dist-packages (from newspaper3k) (4.11.2)\n",
            "Requirement already satisfied: Pillow>=3.3.0 in /usr/local/lib/python3.10/dist-packages (from newspaper3k) (9.4.0)\n",
            "Requirement already satisfied: PyYAML>=3.11 in /usr/local/lib/python3.10/dist-packages (from newspaper3k) (6.0.1)\n",
            "Collecting cssselect>=0.9.2 (from newspaper3k)\n",
            "  Downloading cssselect-1.2.0-py2.py3-none-any.whl (18 kB)\n",
            "Requirement already satisfied: lxml>=3.6.0 in /usr/local/lib/python3.10/dist-packages (from newspaper3k) (4.9.4)\n",
            "Requirement already satisfied: nltk>=3.2.1 in /usr/local/lib/python3.10/dist-packages (from newspaper3k) (3.8.1)\n",
            "Requirement already satisfied: requests>=2.10.0 in /usr/local/lib/python3.10/dist-packages (from newspaper3k) (2.31.0)\n",
            "Collecting feedparser>=5.2.1 (from newspaper3k)\n",
            "  Downloading feedparser-6.0.11-py3-none-any.whl (81 kB)\n",
            "\u001b[2K     \u001b[90m━━━━━━━━━━━━━━━━━━━━━━━━━━━━━━━━━━━━━━━━\u001b[0m \u001b[32m81.3/81.3 kB\u001b[0m \u001b[31m6.0 MB/s\u001b[0m eta \u001b[36m0:00:00\u001b[0m\n",
            "\u001b[?25hCollecting tldextract>=2.0.1 (from newspaper3k)\n",
            "  Downloading tldextract-5.1.1-py3-none-any.whl (97 kB)\n",
            "\u001b[2K     \u001b[90m━━━━━━━━━━━━━━━━━━━━━━━━━━━━━━━━━━━━━━━━\u001b[0m \u001b[32m97.7/97.7 kB\u001b[0m \u001b[31m10.4 MB/s\u001b[0m eta \u001b[36m0:00:00\u001b[0m\n",
            "\u001b[?25hCollecting feedfinder2>=0.0.4 (from newspaper3k)\n",
            "  Downloading feedfinder2-0.0.4.tar.gz (3.3 kB)\n",
            "  Preparing metadata (setup.py) ... \u001b[?25l\u001b[?25hdone\n",
            "Collecting jieba3k>=0.35.1 (from newspaper3k)\n",
            "  Downloading jieba3k-0.35.1.zip (7.4 MB)\n",
            "\u001b[2K     \u001b[90m━━━━━━━━━━━━━━━━━━━━━━━━━━━━━━━━━━━━━━━━\u001b[0m \u001b[32m7.4/7.4 MB\u001b[0m \u001b[31m77.0 MB/s\u001b[0m eta \u001b[36m0:00:00\u001b[0m\n",
            "\u001b[?25h  Preparing metadata (setup.py) ... \u001b[?25l\u001b[?25hdone\n",
            "Requirement already satisfied: python-dateutil>=2.5.3 in /usr/local/lib/python3.10/dist-packages (from newspaper3k) (2.8.2)\n",
            "Collecting tinysegmenter==0.3 (from newspaper3k)\n",
            "  Downloading tinysegmenter-0.3.tar.gz (16 kB)\n",
            "  Preparing metadata (setup.py) ... \u001b[?25l\u001b[?25hdone\n",
            "Requirement already satisfied: soupsieve>1.2 in /usr/local/lib/python3.10/dist-packages (from beautifulsoup4>=4.4.1->newspaper3k) (2.5)\n",
            "Requirement already satisfied: six in /usr/local/lib/python3.10/dist-packages (from feedfinder2>=0.0.4->newspaper3k) (1.16.0)\n",
            "Collecting sgmllib3k (from feedparser>=5.2.1->newspaper3k)\n",
            "  Downloading sgmllib3k-1.0.0.tar.gz (5.8 kB)\n",
            "  Preparing metadata (setup.py) ... \u001b[?25l\u001b[?25hdone\n",
            "Requirement already satisfied: click in /usr/local/lib/python3.10/dist-packages (from nltk>=3.2.1->newspaper3k) (8.1.7)\n",
            "Requirement already satisfied: joblib in /usr/local/lib/python3.10/dist-packages (from nltk>=3.2.1->newspaper3k) (1.3.2)\n",
            "Requirement already satisfied: regex>=2021.8.3 in /usr/local/lib/python3.10/dist-packages (from nltk>=3.2.1->newspaper3k) (2023.6.3)\n",
            "Requirement already satisfied: tqdm in /usr/local/lib/python3.10/dist-packages (from nltk>=3.2.1->newspaper3k) (4.66.1)\n",
            "Requirement already satisfied: charset-normalizer<4,>=2 in /usr/local/lib/python3.10/dist-packages (from requests>=2.10.0->newspaper3k) (3.3.2)\n",
            "Requirement already satisfied: idna<4,>=2.5 in /usr/local/lib/python3.10/dist-packages (from requests>=2.10.0->newspaper3k) (3.6)\n",
            "Requirement already satisfied: urllib3<3,>=1.21.1 in /usr/local/lib/python3.10/dist-packages (from requests>=2.10.0->newspaper3k) (2.0.7)\n",
            "Requirement already satisfied: certifi>=2017.4.17 in /usr/local/lib/python3.10/dist-packages (from requests>=2.10.0->newspaper3k) (2023.11.17)\n",
            "Collecting requests-file>=1.4 (from tldextract>=2.0.1->newspaper3k)\n",
            "  Downloading requests_file-1.5.1-py2.py3-none-any.whl (3.7 kB)\n",
            "Requirement already satisfied: filelock>=3.0.8 in /usr/local/lib/python3.10/dist-packages (from tldextract>=2.0.1->newspaper3k) (3.13.1)\n",
            "Building wheels for collected packages: tinysegmenter, feedfinder2, jieba3k, sgmllib3k\n",
            "  Building wheel for tinysegmenter (setup.py) ... \u001b[?25l\u001b[?25hdone\n",
            "  Created wheel for tinysegmenter: filename=tinysegmenter-0.3-py3-none-any.whl size=13538 sha256=28dc2e88fdeb33abc95ce97aaab936a517ee8290c403096dba1e64b4eb724c0f\n",
            "  Stored in directory: /root/.cache/pip/wheels/c8/d6/6c/384f58df48c00b9a31d638005143b5b3ac62c3d25fb1447f23\n",
            "  Building wheel for feedfinder2 (setup.py) ... \u001b[?25l\u001b[?25hdone\n",
            "  Created wheel for feedfinder2: filename=feedfinder2-0.0.4-py3-none-any.whl size=3340 sha256=29d5f085d559093736946f4f09befeff4a6148e1b933f0bef177c0595b605e32\n",
            "  Stored in directory: /root/.cache/pip/wheels/97/02/e7/a1ff1760e12bdbaab0ac824fae5c1bc933e41c4ccd6a8f8edb\n",
            "  Building wheel for jieba3k (setup.py) ... \u001b[?25l\u001b[?25hdone\n",
            "  Created wheel for jieba3k: filename=jieba3k-0.35.1-py3-none-any.whl size=7398381 sha256=5dec8a814d92fdc6f7fa6bb4de0052d8f181b86339180223921a32bea07d3ffe\n",
            "  Stored in directory: /root/.cache/pip/wheels/7a/c4/0c/12a9a314ecac499456c4c3b2fcc2f635a3b45a39dfbd240299\n",
            "  Building wheel for sgmllib3k (setup.py) ... \u001b[?25l\u001b[?25hdone\n",
            "  Created wheel for sgmllib3k: filename=sgmllib3k-1.0.0-py3-none-any.whl size=6048 sha256=579dd9e647655aaf8ef03e3310e0b5a3d082ce56f75dcea06217e75d6271ca7a\n",
            "  Stored in directory: /root/.cache/pip/wheels/f0/69/93/a47e9d621be168e9e33c7ce60524393c0b92ae83cf6c6e89c5\n",
            "Successfully built tinysegmenter feedfinder2 jieba3k sgmllib3k\n",
            "Installing collected packages: tinysegmenter, sgmllib3k, jieba3k, feedparser, cssselect, requests-file, feedfinder2, tldextract, newspaper3k\n",
            "Successfully installed cssselect-1.2.0 feedfinder2-0.0.4 feedparser-6.0.11 jieba3k-0.35.1 newspaper3k-0.2.8 requests-file-1.5.1 sgmllib3k-1.0.0 tinysegmenter-0.3 tldextract-5.1.1\n"
          ]
        }
      ]
    },
    {
      "cell_type": "code",
      "metadata": {
        "id": "oOnyfb4kq_on"
      },
      "source": [
        "#import the packages\n",
        "from newspaper import Article\n",
        "import random\n",
        "import string\n",
        "import numpy as np\n",
        "import warnings\n",
        "import nltk\n",
        "from sklearn.feature_extraction.text import TfidfVectorizer\n",
        "from sklearn.metrics.pairwise import cosine_similarity"
      ],
      "execution_count": 4,
      "outputs": []
    },
    {
      "cell_type": "code",
      "metadata": {
        "id": "Rp9int5Usw7Q"
      },
      "source": [
        "#ignore the warnings\n",
        "warnings.filterwarnings('ignore')"
      ],
      "execution_count": 5,
      "outputs": []
    },
    {
      "cell_type": "code",
      "metadata": {
        "id": "IPr4Bk1Gs_Yh",
        "outputId": "83e5ffa0-afa0-4646-9fea-b7786666d434",
        "colab": {
          "base_uri": "https://localhost:8080/",
          "height": 0
        }
      },
      "source": [
        "#download package from nltk\n",
        "nltk.download('punkt',quiet=True)\n",
        "nltk.download('wordnet',quiet=True)\n"
      ],
      "execution_count": 6,
      "outputs": [
        {
          "output_type": "execute_result",
          "data": {
            "text/plain": [
              "True"
            ]
          },
          "metadata": {},
          "execution_count": 6
        }
      ]
    },
    {
      "cell_type": "code",
      "metadata": {
        "id": "hm3DE-DR8NQ_",
        "outputId": "f36c6346-719b-4aef-ab49-0870fc2c7f6b",
        "colab": {
          "base_uri": "https://localhost:8080/",
          "height": 0
        }
      },
      "source": [
        "#get artical url\n",
        "article= Article('https://simple.wikipedia.org/wiki/Light')\n",
        "article.download()\n",
        "article.parse()\n",
        "article.nlp()\n",
        "corpus=article.text\n",
        "#print\n",
        "print(corpus)"
      ],
      "execution_count": 7,
      "outputs": [
        {
          "output_type": "stream",
          "name": "stdout",
          "text": [
            "\"Visible light\" redirects here. For all parts of the electromagnetic spectrum that can be seen by the eye, see Visible spectrum\n",
            "\n",
            "Rays, or beams of light shine through metal patterns into a railway station.\n",
            "\n",
            "Light is a form of electromagnetic radiation. It is the natural agent that stimulates sight and makes things easy to see.\n",
            "\n",
            "It has a wavelength which can be seen by the human eye.[1] Animals can also see light. Light makes up a small part of both the electromagnetic spectrum and radiation given off by stars like the sun. The study of light is known as optics. When light hits an opaque object, it makes a shadow. When light hits a transparent object, it passes through it almost completely without making a shadow.\n",
            "\n",
            "Light is a form of electromagnetic radiation that shows properties of both waves and particles. It is a form of energy. Light also keeps the Earth warm. Light exists in tiny energy packets called photons. Each wave has a wavelength or frequency. The human eye sees each wavelength as a different color. Rainbows show the entire spectrum of visible light. The separate colors, moving in from the outer edges, are red, orange, yellow, green, blue, indigo and violet. Other colors can be seen only with special cameras or instruments: Wavelengths below the frequency of red are called infrared, and higher than of violet are called ultraviolet.\n",
            "\n",
            "The other main properties of light are intensity, polarization, phase and orbital angular momentum.\n",
            "\n",
            "In physics, the term light sometimes refers to electromagnetic radiation of any wavelength, whether visible or not.[2][3] This article is about visible light. Read the electromagnetic radiation article for the general concept.\n",
            "\n",
            "The main source of light on Earth is the Sun.\n",
            "\n",
            "About light [ change | change source ]\n",
            "\n",
            "Laser beams.\n",
            "\n",
            "In a vacuum, the speed of light is 299,792,458 meters per second,[4] or about 186,282 miles per second. This means it takes about 7 minutes for light to reach Earth from the Sun.[5][6]\n",
            "\n",
            "Light moves in a straight line. The straight line path is often drawn as a ray. Humans can only see rays of light traveling directly into the eyes. Ray diagrams are used to illustrate light traveling from one place to another. A beam of light can be thought of as a set of light rays.\n",
            "\n",
            "Objects that block rays of light can create shadows. Opaque objects block all light rays and create a darker shadow, translucent objects block some rays and scatter others. They create a lighter shadow. Transparent things will allow almost all light rays to pass straight through. They have no or very little shadow. Light can easily move through transparent things. When light is not in a vacuum, it travels slower than the speed of light. The slowest speed of light ever recorded was 39 miles per hour.[7] Our eyes react to light. When we see something, we see the light it reflects, or the light it gives off. For example, a lamp gives off light. Everything else in the room the lamp is in reflects the lamp's light. As the viewer, one cannot directly determine where the ray of light came from prior to reflecting off an object.\n",
            "\n",
            "Every color of light has a different wavelength. The shorter the wavelength, the more energy the light has. The speed of light does not depend on its energy. Going through translucent objects can slow light down by a very small amount.\n",
            "\n",
            "White light is made up of all the different colors of light added together. When white light shines through a prism, it splits up into different colors, becoming a spectrum. The spectrum contains all of the wavelengths of light that we can see. Red light has the longest wavelength, and violet (purple) light has the shortest.\n",
            "\n",
            "Light with a wavelength shorter than violet is called ultraviolet light. X-rays and gamma rays are forms of light with even shorter wavelengths than ultraviolet. Light with a wavelength longer than red is called infrared light. Radio waves are a form of electromagnetic radiation with a wavelength longer than infrared light. The microwaves that are used to heat food in a microwave oven are also a form of electromagnetic radiation. Our eyes cannot see those kinds of energy, but there are some cameras that can see them. The various forms of light, both visible and invisible are the electromagnetic spectrum.\n",
            "\n",
            "When light is refracted in raindrops, a rainbow is made. The raindrop acts like a prism and refracts the light until we can see the colors of the spectrum.\n",
            "\n",
            "Rainbow in Budapest shows the colors of the visible spectrum.\n",
            "\n",
            "Light and color are forms of analog information. However, electronic cameras and computer displays work with digital information. Electronic cameras or document scanners make a digital version of a color image by separating out the full color image into separate red, green, and blue images. Later, a digital display uses pixels of just those three colors. Computer screens use only these three colors in different brightness levels. The brain puts them together to see all of the other colors in the image.\n",
            "\n",
            "People think of objects as having color. The color of objects is because the molecules that make up the object absorb certain light waves, leaving the other light waves to bounce off. The human eye sees the wavelengths of all of the light that was not absorbed. This gives the brain with the impression of a color.\n"
          ]
        }
      ]
    },
    {
      "cell_type": "code",
      "metadata": {
        "id": "Mrr2K1g-u0zd",
        "outputId": "9d7e81a2-95e9-408b-96b8-6c81160d7f1e",
        "colab": {
          "base_uri": "https://localhost:8080/",
          "height": 0
        }
      },
      "source": [
        "#tokenization\n",
        "text=corpus\n",
        "sent_tokens=nltk.sent_tokenize(text)\n",
        "print(sent_tokens)\n"
      ],
      "execution_count": 8,
      "outputs": [
        {
          "output_type": "stream",
          "name": "stdout",
          "text": [
            "['\"Visible light\" redirects here.', 'For all parts of the electromagnetic spectrum that can be seen by the eye, see Visible spectrum\\n\\nRays, or beams of light shine through metal patterns into a railway station.', 'Light is a form of electromagnetic radiation.', 'It is the natural agent that stimulates sight and makes things easy to see.', 'It has a wavelength which can be seen by the human eye.', '[1] Animals can also see light.', 'Light makes up a small part of both the electromagnetic spectrum and radiation given off by stars like the sun.', 'The study of light is known as optics.', 'When light hits an opaque object, it makes a shadow.', 'When light hits a transparent object, it passes through it almost completely without making a shadow.', 'Light is a form of electromagnetic radiation that shows properties of both waves and particles.', 'It is a form of energy.', 'Light also keeps the Earth warm.', 'Light exists in tiny energy packets called photons.', 'Each wave has a wavelength or frequency.', 'The human eye sees each wavelength as a different color.', 'Rainbows show the entire spectrum of visible light.', 'The separate colors, moving in from the outer edges, are red, orange, yellow, green, blue, indigo and violet.', 'Other colors can be seen only with special cameras or instruments: Wavelengths below the frequency of red are called infrared, and higher than of violet are called ultraviolet.', 'The other main properties of light are intensity, polarization, phase and orbital angular momentum.', 'In physics, the term light sometimes refers to electromagnetic radiation of any wavelength, whether visible or not.', '[2][3] This article is about visible light.', 'Read the electromagnetic radiation article for the general concept.', 'The main source of light on Earth is the Sun.', 'About light [ change | change source ]\\n\\nLaser beams.', 'In a vacuum, the speed of light is 299,792,458 meters per second,[4] or about 186,282 miles per second.', 'This means it takes about 7 minutes for light to reach Earth from the Sun.', '[5][6]\\n\\nLight moves in a straight line.', 'The straight line path is often drawn as a ray.', 'Humans can only see rays of light traveling directly into the eyes.', 'Ray diagrams are used to illustrate light traveling from one place to another.', 'A beam of light can be thought of as a set of light rays.', 'Objects that block rays of light can create shadows.', 'Opaque objects block all light rays and create a darker shadow, translucent objects block some rays and scatter others.', 'They create a lighter shadow.', 'Transparent things will allow almost all light rays to pass straight through.', 'They have no or very little shadow.', 'Light can easily move through transparent things.', 'When light is not in a vacuum, it travels slower than the speed of light.', 'The slowest speed of light ever recorded was 39 miles per hour.', '[7] Our eyes react to light.', 'When we see something, we see the light it reflects, or the light it gives off.', 'For example, a lamp gives off light.', \"Everything else in the room the lamp is in reflects the lamp's light.\", 'As the viewer, one cannot directly determine where the ray of light came from prior to reflecting off an object.', 'Every color of light has a different wavelength.', 'The shorter the wavelength, the more energy the light has.', 'The speed of light does not depend on its energy.', 'Going through translucent objects can slow light down by a very small amount.', 'White light is made up of all the different colors of light added together.', 'When white light shines through a prism, it splits up into different colors, becoming a spectrum.', 'The spectrum contains all of the wavelengths of light that we can see.', 'Red light has the longest wavelength, and violet (purple) light has the shortest.', 'Light with a wavelength shorter than violet is called ultraviolet light.', 'X-rays and gamma rays are forms of light with even shorter wavelengths than ultraviolet.', 'Light with a wavelength longer than red is called infrared light.', 'Radio waves are a form of electromagnetic radiation with a wavelength longer than infrared light.', 'The microwaves that are used to heat food in a microwave oven are also a form of electromagnetic radiation.', 'Our eyes cannot see those kinds of energy, but there are some cameras that can see them.', 'The various forms of light, both visible and invisible are the electromagnetic spectrum.', 'When light is refracted in raindrops, a rainbow is made.', 'The raindrop acts like a prism and refracts the light until we can see the colors of the spectrum.', 'Rainbow in Budapest shows the colors of the visible spectrum.', 'Light and color are forms of analog information.', 'However, electronic cameras and computer displays work with digital information.', 'Electronic cameras or document scanners make a digital version of a color image by separating out the full color image into separate red, green, and blue images.', 'Later, a digital display uses pixels of just those three colors.', 'Computer screens use only these three colors in different brightness levels.', 'The brain puts them together to see all of the other colors in the image.', 'People think of objects as having color.', 'The color of objects is because the molecules that make up the object absorb certain light waves, leaving the other light waves to bounce off.', 'The human eye sees the wavelengths of all of the light that was not absorbed.', 'This gives the brain with the impression of a color.']\n"
          ]
        }
      ]
    },
    {
      "cell_type": "code",
      "metadata": {
        "id": "IWmyBZFKvhqG",
        "outputId": "1a55862f-5eb0-48fd-f789-8e029823ed12",
        "colab": {
          "base_uri": "https://localhost:8080/",
          "height": 0
        }
      },
      "source": [
        "#creating a dictionary to remove the punctuation\n",
        "remove_punct_dict=dict( (ord(punct),None) for punct in string.punctuation)\n",
        "print(string.punctuation)\n",
        "print(remove_punct_dict)"
      ],
      "execution_count": 9,
      "outputs": [
        {
          "output_type": "stream",
          "name": "stdout",
          "text": [
            "!\"#$%&'()*+,-./:;<=>?@[\\]^_`{|}~\n",
            "{33: None, 34: None, 35: None, 36: None, 37: None, 38: None, 39: None, 40: None, 41: None, 42: None, 43: None, 44: None, 45: None, 46: None, 47: None, 58: None, 59: None, 60: None, 61: None, 62: None, 63: None, 64: None, 91: None, 92: None, 93: None, 94: None, 95: None, 96: None, 123: None, 124: None, 125: None, 126: None}\n"
          ]
        }
      ]
    },
    {
      "cell_type": "code",
      "metadata": {
        "id": "lx9bKjbvw1DU",
        "outputId": "992169f8-5136-44a8-b469-6aa46b38535e",
        "colab": {
          "base_uri": "https://localhost:8080/",
          "height": 0
        }
      },
      "source": [
        "#create a function to return lower case words\n",
        "def LemNormalize(text):\n",
        "  return nltk.word_tokenize(text.lower().translate(remove_punct_dict))\n",
        "print(LemNormalize(text))\n"
      ],
      "execution_count": 10,
      "outputs": [
        {
          "output_type": "stream",
          "name": "stdout",
          "text": [
            "['visible', 'light', 'redirects', 'here', 'for', 'all', 'parts', 'of', 'the', 'electromagnetic', 'spectrum', 'that', 'can', 'be', 'seen', 'by', 'the', 'eye', 'see', 'visible', 'spectrum', 'rays', 'or', 'beams', 'of', 'light', 'shine', 'through', 'metal', 'patterns', 'into', 'a', 'railway', 'station', 'light', 'is', 'a', 'form', 'of', 'electromagnetic', 'radiation', 'it', 'is', 'the', 'natural', 'agent', 'that', 'stimulates', 'sight', 'and', 'makes', 'things', 'easy', 'to', 'see', 'it', 'has', 'a', 'wavelength', 'which', 'can', 'be', 'seen', 'by', 'the', 'human', 'eye1', 'animals', 'can', 'also', 'see', 'light', 'light', 'makes', 'up', 'a', 'small', 'part', 'of', 'both', 'the', 'electromagnetic', 'spectrum', 'and', 'radiation', 'given', 'off', 'by', 'stars', 'like', 'the', 'sun', 'the', 'study', 'of', 'light', 'is', 'known', 'as', 'optics', 'when', 'light', 'hits', 'an', 'opaque', 'object', 'it', 'makes', 'a', 'shadow', 'when', 'light', 'hits', 'a', 'transparent', 'object', 'it', 'passes', 'through', 'it', 'almost', 'completely', 'without', 'making', 'a', 'shadow', 'light', 'is', 'a', 'form', 'of', 'electromagnetic', 'radiation', 'that', 'shows', 'properties', 'of', 'both', 'waves', 'and', 'particles', 'it', 'is', 'a', 'form', 'of', 'energy', 'light', 'also', 'keeps', 'the', 'earth', 'warm', 'light', 'exists', 'in', 'tiny', 'energy', 'packets', 'called', 'photons', 'each', 'wave', 'has', 'a', 'wavelength', 'or', 'frequency', 'the', 'human', 'eye', 'sees', 'each', 'wavelength', 'as', 'a', 'different', 'color', 'rainbows', 'show', 'the', 'entire', 'spectrum', 'of', 'visible', 'light', 'the', 'separate', 'colors', 'moving', 'in', 'from', 'the', 'outer', 'edges', 'are', 'red', 'orange', 'yellow', 'green', 'blue', 'indigo', 'and', 'violet', 'other', 'colors', 'can', 'be', 'seen', 'only', 'with', 'special', 'cameras', 'or', 'instruments', 'wavelengths', 'below', 'the', 'frequency', 'of', 'red', 'are', 'called', 'infrared', 'and', 'higher', 'than', 'of', 'violet', 'are', 'called', 'ultraviolet', 'the', 'other', 'main', 'properties', 'of', 'light', 'are', 'intensity', 'polarization', 'phase', 'and', 'orbital', 'angular', 'momentum', 'in', 'physics', 'the', 'term', 'light', 'sometimes', 'refers', 'to', 'electromagnetic', 'radiation', 'of', 'any', 'wavelength', 'whether', 'visible', 'or', 'not23', 'this', 'article', 'is', 'about', 'visible', 'light', 'read', 'the', 'electromagnetic', 'radiation', 'article', 'for', 'the', 'general', 'concept', 'the', 'main', 'source', 'of', 'light', 'on', 'earth', 'is', 'the', 'sun', 'about', 'light', 'change', 'change', 'source', 'laser', 'beams', 'in', 'a', 'vacuum', 'the', 'speed', 'of', 'light', 'is', '299792458', 'meters', 'per', 'second4', 'or', 'about', '186282', 'miles', 'per', 'second', 'this', 'means', 'it', 'takes', 'about', '7', 'minutes', 'for', 'light', 'to', 'reach', 'earth', 'from', 'the', 'sun56', 'light', 'moves', 'in', 'a', 'straight', 'line', 'the', 'straight', 'line', 'path', 'is', 'often', 'drawn', 'as', 'a', 'ray', 'humans', 'can', 'only', 'see', 'rays', 'of', 'light', 'traveling', 'directly', 'into', 'the', 'eyes', 'ray', 'diagrams', 'are', 'used', 'to', 'illustrate', 'light', 'traveling', 'from', 'one', 'place', 'to', 'another', 'a', 'beam', 'of', 'light', 'can', 'be', 'thought', 'of', 'as', 'a', 'set', 'of', 'light', 'rays', 'objects', 'that', 'block', 'rays', 'of', 'light', 'can', 'create', 'shadows', 'opaque', 'objects', 'block', 'all', 'light', 'rays', 'and', 'create', 'a', 'darker', 'shadow', 'translucent', 'objects', 'block', 'some', 'rays', 'and', 'scatter', 'others', 'they', 'create', 'a', 'lighter', 'shadow', 'transparent', 'things', 'will', 'allow', 'almost', 'all', 'light', 'rays', 'to', 'pass', 'straight', 'through', 'they', 'have', 'no', 'or', 'very', 'little', 'shadow', 'light', 'can', 'easily', 'move', 'through', 'transparent', 'things', 'when', 'light', 'is', 'not', 'in', 'a', 'vacuum', 'it', 'travels', 'slower', 'than', 'the', 'speed', 'of', 'light', 'the', 'slowest', 'speed', 'of', 'light', 'ever', 'recorded', 'was', '39', 'miles', 'per', 'hour7', 'our', 'eyes', 'react', 'to', 'light', 'when', 'we', 'see', 'something', 'we', 'see', 'the', 'light', 'it', 'reflects', 'or', 'the', 'light', 'it', 'gives', 'off', 'for', 'example', 'a', 'lamp', 'gives', 'off', 'light', 'everything', 'else', 'in', 'the', 'room', 'the', 'lamp', 'is', 'in', 'reflects', 'the', 'lamps', 'light', 'as', 'the', 'viewer', 'one', 'can', 'not', 'directly', 'determine', 'where', 'the', 'ray', 'of', 'light', 'came', 'from', 'prior', 'to', 'reflecting', 'off', 'an', 'object', 'every', 'color', 'of', 'light', 'has', 'a', 'different', 'wavelength', 'the', 'shorter', 'the', 'wavelength', 'the', 'more', 'energy', 'the', 'light', 'has', 'the', 'speed', 'of', 'light', 'does', 'not', 'depend', 'on', 'its', 'energy', 'going', 'through', 'translucent', 'objects', 'can', 'slow', 'light', 'down', 'by', 'a', 'very', 'small', 'amount', 'white', 'light', 'is', 'made', 'up', 'of', 'all', 'the', 'different', 'colors', 'of', 'light', 'added', 'together', 'when', 'white', 'light', 'shines', 'through', 'a', 'prism', 'it', 'splits', 'up', 'into', 'different', 'colors', 'becoming', 'a', 'spectrum', 'the', 'spectrum', 'contains', 'all', 'of', 'the', 'wavelengths', 'of', 'light', 'that', 'we', 'can', 'see', 'red', 'light', 'has', 'the', 'longest', 'wavelength', 'and', 'violet', 'purple', 'light', 'has', 'the', 'shortest', 'light', 'with', 'a', 'wavelength', 'shorter', 'than', 'violet', 'is', 'called', 'ultraviolet', 'light', 'xrays', 'and', 'gamma', 'rays', 'are', 'forms', 'of', 'light', 'with', 'even', 'shorter', 'wavelengths', 'than', 'ultraviolet', 'light', 'with', 'a', 'wavelength', 'longer', 'than', 'red', 'is', 'called', 'infrared', 'light', 'radio', 'waves', 'are', 'a', 'form', 'of', 'electromagnetic', 'radiation', 'with', 'a', 'wavelength', 'longer', 'than', 'infrared', 'light', 'the', 'microwaves', 'that', 'are', 'used', 'to', 'heat', 'food', 'in', 'a', 'microwave', 'oven', 'are', 'also', 'a', 'form', 'of', 'electromagnetic', 'radiation', 'our', 'eyes', 'can', 'not', 'see', 'those', 'kinds', 'of', 'energy', 'but', 'there', 'are', 'some', 'cameras', 'that', 'can', 'see', 'them', 'the', 'various', 'forms', 'of', 'light', 'both', 'visible', 'and', 'invisible', 'are', 'the', 'electromagnetic', 'spectrum', 'when', 'light', 'is', 'refracted', 'in', 'raindrops', 'a', 'rainbow', 'is', 'made', 'the', 'raindrop', 'acts', 'like', 'a', 'prism', 'and', 'refracts', 'the', 'light', 'until', 'we', 'can', 'see', 'the', 'colors', 'of', 'the', 'spectrum', 'rainbow', 'in', 'budapest', 'shows', 'the', 'colors', 'of', 'the', 'visible', 'spectrum', 'light', 'and', 'color', 'are', 'forms', 'of', 'analog', 'information', 'however', 'electronic', 'cameras', 'and', 'computer', 'displays', 'work', 'with', 'digital', 'information', 'electronic', 'cameras', 'or', 'document', 'scanners', 'make', 'a', 'digital', 'version', 'of', 'a', 'color', 'image', 'by', 'separating', 'out', 'the', 'full', 'color', 'image', 'into', 'separate', 'red', 'green', 'and', 'blue', 'images', 'later', 'a', 'digital', 'display', 'uses', 'pixels', 'of', 'just', 'those', 'three', 'colors', 'computer', 'screens', 'use', 'only', 'these', 'three', 'colors', 'in', 'different', 'brightness', 'levels', 'the', 'brain', 'puts', 'them', 'together', 'to', 'see', 'all', 'of', 'the', 'other', 'colors', 'in', 'the', 'image', 'people', 'think', 'of', 'objects', 'as', 'having', 'color', 'the', 'color', 'of', 'objects', 'is', 'because', 'the', 'molecules', 'that', 'make', 'up', 'the', 'object', 'absorb', 'certain', 'light', 'waves', 'leaving', 'the', 'other', 'light', 'waves', 'to', 'bounce', 'off', 'the', 'human', 'eye', 'sees', 'the', 'wavelengths', 'of', 'all', 'of', 'the', 'light', 'that', 'was', 'not', 'absorbed', 'this', 'gives', 'the', 'brain', 'with', 'the', 'impression', 'of', 'a', 'color']\n"
          ]
        }
      ]
    },
    {
      "cell_type": "code",
      "metadata": {
        "id": "KEO4IkEDUBPe"
      },
      "source": [
        "#keywords for greetings\n",
        "greeting_input=[\"hi\",\"hello\",\"hey\",\"hola\"]\n",
        "greeting_response=[\"howdy\",\"hey there\",\"hi\",\"hello :)\"]\n",
        "def greeting(sentence):\n",
        "  for word in sentence.split():\n",
        "    if word.lower() in greeting_input:\n",
        "      return random.choice(greeting_response)"
      ],
      "execution_count": 11,
      "outputs": []
    },
    {
      "cell_type": "code",
      "metadata": {
        "id": "k6VK2PEQYaAM"
      },
      "source": [
        "def response(user_response):\n",
        " #user response and robo responce\n",
        "  #user_response=\"WHat is chronic disease\"\n",
        "  user_response=user_response.lower()\n",
        "  #print(user_response)\n",
        "  #robo response\n",
        "  robo_response=''\n",
        "  sent_tokens.append(user_response)\n",
        "  #print(sent_tokens)\n",
        "  tfidfvec=TfidfVectorizer(tokenizer=LemNormalize , stop_words='english')\n",
        "  tfidf=tfidfvec.fit_transform(sent_tokens)\n",
        "  #print(tfidf)\n",
        "  #get similarity score\n",
        "  val=cosine_similarity(tfidf[-1],tfidf)\n",
        "  #print(val)\n",
        "  idx=val.argsort()[0][-2]\n",
        "  flat=val.flatten()\n",
        "  flat.sort()\n",
        "  score=flat[-2]\n",
        "  #print(score)\n",
        "  if score==0:\n",
        "    robo_response=robo_response+\"sorry,i dont understand\"\n",
        "  else:\n",
        "    robo_response=robo_response+sent_tokens[idx]\n",
        "\n",
        "  sent_tokens.remove(user_response)\n",
        "  return robo_response"
      ],
      "execution_count": 12,
      "outputs": []
    },
    {
      "cell_type": "code",
      "metadata": {
        "id": "GuRVBgvSldFl",
        "outputId": "775ce53d-f1a2-4f6b-9bc8-4a3c809a502b",
        "colab": {
          "base_uri": "https://localhost:8080/",
          "height": 0
        }
      },
      "source": [
        "import random\n",
        "\n",
        "# Greeting inputs and responses\n",
        "greeting_input = [\"hi\", \"hello\", \"hey\", \"hola\"]\n",
        "greeting_response = [\"howdy\", \"hey there\", \"hi\", \"hello :)\"]\n",
        "\n",
        "# Basic question responses (with a touch of humor)\n",
        "basic_questions = {\n",
        "    \"what can you do?\": [\n",
        "        \"I can light up your day with information on all things light, *and* I'm pretty good at puns. \",\n",
        "        \"I'm here to shed some light on your questions and brighten your mood with my illuminating personality. \",\n",
        "    ],\n",
        "    \"what is your purpose?\": [\n",
        "        \"To help you see the light, even in the darkest of coding challenges. ✨\",\n",
        "        \"To make sure you're never left in the dark when it comes to understanding light. ⚡️\",\n",
        "    ],\n",
        "    \"are you a real person?\": [\n",
        "        \"I'm as real as the light at the end of the tunnel. \",\n",
        "        \"I'm real enough to brighten your day, even if I'm not made of flesh and bones. \",\n",
        "    ],\n",
        "    \"are you smart?\": [\n",
        "        \"I'm not the brightest bulb in the chandelier, but I'm pretty light on my feet. \",\n",
        "        \"I'm smart enough to know that I have a lot to learn, but I'm always up for a challenge. \",\n",
        "    ],\n",
        "    \"can you tell me a joke?\": [\n",
        "        \"Why did the light bulb cross the road? To get to the other socket! \",\n",
        "        \"What did the light bulb say to the switch? I'm feeling a bit turned off today. \",\n",
        "    ],\n",
        "}\n",
        "\n",
        "def greeting(sentence):\n",
        "    for word in sentence.split():\n",
        "        if word.lower() in greeting_input:\n",
        "            return random.choice(greeting_response)\n",
        "\n",
        "def response(user_response):\n",
        "    for question in basic_questions:\n",
        "        if question in user_response.lower():\n",
        "            return random.choice(basic_questions[question])\n",
        "    return \"I'm not sure I understand. Could you rephrase that?\"\n",
        "\n",
        "print(\"Hello!!! This is MadMax, I can answer your queries related to light and bring a little sunshine to your day. ☀️ Type 'bye' to exit.\")\n",
        "\n",
        "while True:\n",
        "    user_response = input(\"User: \")\n",
        "\n",
        "    if user_response.lower() == 'bye':\n",
        "        print(\"MadMax: See you later, illuminator! \")\n",
        "        break\n",
        "\n",
        "    elif user_response.lower() in [\"thanks\", \"thank you\"]:\n",
        "        print(\"MadMax: Anytime! \")\n",
        "\n",
        "    else:\n",
        "        chatbot_response = greeting(user_response) or response(user_response)\n",
        "        print(\"MadMax:\", chatbot_response)\n"
      ],
      "execution_count": 13,
      "outputs": [
        {
          "output_type": "stream",
          "name": "stdout",
          "text": [
            "Hello!!! This is MadMax, I can answer your queries related to light and bring a little sunshine to your day. ☀️ Type 'bye' to exit.\n",
            "User: Hi\n",
            "MadMax: hey there\n",
            "User: what can u do\n",
            "MadMax: I'm not sure I understand. Could you rephrase that?\n",
            "User: What can you do?\n",
            "MadMax: I'm here to shed some light on your questions and brighten your mood with my illuminating personality. \n",
            "User: Can you tell me a joke?\n",
            "MadMax: What did the light bulb say to the switch? I'm feeling a bit turned off today. \n",
            "User: what is light?\n",
            "MadMax: I'm not sure I understand. Could you rephrase that?\n",
            "User: bye\n",
            "MadMax: See you later, illuminator! \n"
          ]
        }
      ]
    },
    {
      "cell_type": "code",
      "metadata": {
        "id": "Jt5knGtwpl0O"
      },
      "source": [],
      "execution_count": 13,
      "outputs": []
    }
  ]
}